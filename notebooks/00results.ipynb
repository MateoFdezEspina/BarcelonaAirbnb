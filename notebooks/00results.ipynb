{
 "cells": [
  {
   "cell_type": "code",
   "execution_count": 1,
   "metadata": {},
   "outputs": [],
   "source": [
    "import pandas as pd"
   ]
  },
  {
   "cell_type": "code",
   "execution_count": 2,
   "metadata": {},
   "outputs": [
    {
     "data": {
      "text/html": [
       "<div>\n",
       "<style scoped>\n",
       "    .dataframe tbody tr th:only-of-type {\n",
       "        vertical-align: middle;\n",
       "    }\n",
       "\n",
       "    .dataframe tbody tr th {\n",
       "        vertical-align: top;\n",
       "    }\n",
       "\n",
       "    .dataframe thead th {\n",
       "        text-align: right;\n",
       "    }\n",
       "</style>\n",
       "<table border=\"1\" class=\"dataframe\">\n",
       "  <thead>\n",
       "    <tr style=\"text-align: right;\">\n",
       "      <th></th>\n",
       "      <th>MSE</th>\n",
       "      <th>RMSE</th>\n",
       "      <th>R^2</th>\n",
       "      <th>Adj R^2</th>\n",
       "      <th>EVs</th>\n",
       "      <th>AIC</th>\n",
       "    </tr>\n",
       "  </thead>\n",
       "  <tbody>\n",
       "    <tr>\n",
       "      <th>Linear Regression</th>\n",
       "      <td>119.908203</td>\n",
       "      <td>10.950260</td>\n",
       "      <td>0.818644</td>\n",
       "      <td>0.803146</td>\n",
       "      <td>0.818644</td>\n",
       "      <td>5280.223871</td>\n",
       "    </tr>\n",
       "    <tr>\n",
       "      <th>GWR</th>\n",
       "      <td>128.109551</td>\n",
       "      <td>11.318549</td>\n",
       "      <td>0.806239</td>\n",
       "      <td>0.789682</td>\n",
       "      <td>0.808532</td>\n",
       "      <td>1529.338979</td>\n",
       "    </tr>\n",
       "    <tr>\n",
       "      <th>MESF-Queen</th>\n",
       "      <td>115.646884</td>\n",
       "      <td>10.753924</td>\n",
       "      <td>0.825089</td>\n",
       "      <td>0.808191</td>\n",
       "      <td>0.825089</td>\n",
       "      <td>5261.578263</td>\n",
       "    </tr>\n",
       "    <tr>\n",
       "      <th>MESF-KNN</th>\n",
       "      <td>192.405777</td>\n",
       "      <td>13.871041</td>\n",
       "      <td>0.708994</td>\n",
       "      <td>0.680880</td>\n",
       "      <td>0.708994</td>\n",
       "      <td>5805.259810</td>\n",
       "    </tr>\n",
       "    <tr>\n",
       "      <th>MESF-Gabriel</th>\n",
       "      <td>190.397608</td>\n",
       "      <td>13.798464</td>\n",
       "      <td>0.712031</td>\n",
       "      <td>0.684211</td>\n",
       "      <td>0.712031</td>\n",
       "      <td>5794.054352</td>\n",
       "    </tr>\n",
       "  </tbody>\n",
       "</table>\n",
       "</div>"
      ],
      "text/plain": [
       "                          MSE       RMSE       R^2   Adj R^2       EVs  \\\n",
       "Linear Regression  119.908203  10.950260  0.818644  0.803146  0.818644   \n",
       "GWR                128.109551  11.318549  0.806239  0.789682  0.808532   \n",
       "MESF-Queen         115.646884  10.753924  0.825089  0.808191  0.825089   \n",
       "MESF-KNN           192.405777  13.871041  0.708994  0.680880  0.708994   \n",
       "MESF-Gabriel       190.397608  13.798464  0.712031  0.684211  0.712031   \n",
       "\n",
       "                           AIC  \n",
       "Linear Regression  5280.223871  \n",
       "GWR                1529.338979  \n",
       "MESF-Queen         5261.578263  \n",
       "MESF-KNN           5805.259810  \n",
       "MESF-Gabriel       5794.054352  "
      ]
     },
     "execution_count": 2,
     "metadata": {},
     "output_type": "execute_result"
    }
   ],
   "source": [
    "df_metrics = pd.read_csv(\"metrics.csv\", index_col=0)\n",
    "df_metrics"
   ]
  },
  {
   "cell_type": "code",
   "execution_count": 3,
   "metadata": {},
   "outputs": [
    {
     "data": {
      "text/html": [
       "<div>\n",
       "<style scoped>\n",
       "    .dataframe tbody tr th:only-of-type {\n",
       "        vertical-align: middle;\n",
       "    }\n",
       "\n",
       "    .dataframe tbody tr th {\n",
       "        vertical-align: top;\n",
       "    }\n",
       "\n",
       "    .dataframe thead th {\n",
       "        text-align: right;\n",
       "    }\n",
       "</style>\n",
       "<table border=\"1\" class=\"dataframe\">\n",
       "  <thead>\n",
       "    <tr style=\"text-align: right;\">\n",
       "      <th></th>\n",
       "      <th>MSE</th>\n",
       "      <th>RMSE</th>\n",
       "      <th>R^2</th>\n",
       "      <th>Adj R^2</th>\n",
       "      <th>EVs</th>\n",
       "      <th>AIC</th>\n",
       "    </tr>\n",
       "  </thead>\n",
       "  <tbody>\n",
       "    <tr>\n",
       "      <th>Linear Regression</th>\n",
       "      <td>160.004466</td>\n",
       "      <td>12.649287</td>\n",
       "      <td>0.757999</td>\n",
       "      <td>0.753377</td>\n",
       "      <td>0.762458</td>\n",
       "      <td>5460.315447</td>\n",
       "    </tr>\n",
       "    <tr>\n",
       "      <th>GWR</th>\n",
       "      <td>92.873596</td>\n",
       "      <td>9.637095</td>\n",
       "      <td>0.859532</td>\n",
       "      <td>0.858738</td>\n",
       "      <td>0.862931</td>\n",
       "      <td>1481.899846</td>\n",
       "    </tr>\n",
       "  </tbody>\n",
       "</table>\n",
       "</div>"
      ],
      "text/plain": [
       "                          MSE       RMSE       R^2   Adj R^2       EVs  \\\n",
       "Linear Regression  160.004466  12.649287  0.757999  0.753377  0.762458   \n",
       "GWR                 92.873596   9.637095  0.859532  0.858738  0.862931   \n",
       "\n",
       "                           AIC  \n",
       "Linear Regression  5460.315447  \n",
       "GWR                1481.899846  "
      ]
     },
     "execution_count": 3,
     "metadata": {},
     "output_type": "execute_result"
    }
   ],
   "source": [
    "df_metrics = pd.read_csv(\"metrics_red.csv\", index_col=0)\n",
    "df_metrics"
   ]
  },
  {
   "cell_type": "code",
   "execution_count": 4,
   "metadata": {},
   "outputs": [
    {
     "data": {
      "text/html": [
       "<div>\n",
       "<style scoped>\n",
       "    .dataframe tbody tr th:only-of-type {\n",
       "        vertical-align: middle;\n",
       "    }\n",
       "\n",
       "    .dataframe tbody tr th {\n",
       "        vertical-align: top;\n",
       "    }\n",
       "\n",
       "    .dataframe thead th {\n",
       "        text-align: right;\n",
       "    }\n",
       "</style>\n",
       "<table border=\"1\" class=\"dataframe\">\n",
       "  <thead>\n",
       "    <tr style=\"text-align: right;\">\n",
       "      <th></th>\n",
       "      <th>Moran's I</th>\n",
       "      <th>Mean MSE</th>\n",
       "    </tr>\n",
       "  </thead>\n",
       "  <tbody>\n",
       "    <tr>\n",
       "      <th>Linear Regression</th>\n",
       "      <td>0.133607</td>\n",
       "      <td>181.59929052420765</td>\n",
       "    </tr>\n",
       "    <tr>\n",
       "      <th>GWR</th>\n",
       "      <td>0.091858</td>\n",
       "      <td>192.9273221885832</td>\n",
       "    </tr>\n",
       "    <tr>\n",
       "      <th>MESF-Queen</th>\n",
       "      <td>0.111243</td>\n",
       "      <td>283.97237241464666</td>\n",
       "    </tr>\n",
       "    <tr>\n",
       "      <th>MESF-KNN</th>\n",
       "      <td>0.449536</td>\n",
       "      <td>-</td>\n",
       "    </tr>\n",
       "    <tr>\n",
       "      <th>MESF-Gabriel</th>\n",
       "      <td>0.419498</td>\n",
       "      <td>-</td>\n",
       "    </tr>\n",
       "  </tbody>\n",
       "</table>\n",
       "</div>"
      ],
      "text/plain": [
       "                   Moran's I            Mean MSE\n",
       "Linear Regression   0.133607  181.59929052420765\n",
       "GWR                 0.091858   192.9273221885832\n",
       "MESF-Queen          0.111243  283.97237241464666\n",
       "MESF-KNN            0.449536                   -\n",
       "MESF-Gabriel        0.419498                   -"
      ]
     },
     "execution_count": 4,
     "metadata": {},
     "output_type": "execute_result"
    }
   ],
   "source": [
    "df_metrics = pd.read_csv(\"metrics_autocorr.csv\", index_col=0)\n",
    "df_metrics"
   ]
  },
  {
   "cell_type": "code",
   "execution_count": 5,
   "metadata": {},
   "outputs": [
    {
     "data": {
      "text/html": [
       "<div>\n",
       "<style scoped>\n",
       "    .dataframe tbody tr th:only-of-type {\n",
       "        vertical-align: middle;\n",
       "    }\n",
       "\n",
       "    .dataframe tbody tr th {\n",
       "        vertical-align: top;\n",
       "    }\n",
       "\n",
       "    .dataframe thead th {\n",
       "        text-align: right;\n",
       "    }\n",
       "</style>\n",
       "<table border=\"1\" class=\"dataframe\">\n",
       "  <thead>\n",
       "    <tr style=\"text-align: right;\">\n",
       "      <th></th>\n",
       "      <th>Moran's I</th>\n",
       "      <th>Mean MSE</th>\n",
       "    </tr>\n",
       "  </thead>\n",
       "  <tbody>\n",
       "    <tr>\n",
       "      <th>Linear Regression</th>\n",
       "      <td>0.133607</td>\n",
       "      <td>178.444837</td>\n",
       "    </tr>\n",
       "    <tr>\n",
       "      <th>GWR</th>\n",
       "      <td>0.101605</td>\n",
       "      <td>120.867957</td>\n",
       "    </tr>\n",
       "  </tbody>\n",
       "</table>\n",
       "</div>"
      ],
      "text/plain": [
       "                   Moran's I    Mean MSE\n",
       "Linear Regression   0.133607  178.444837\n",
       "GWR                 0.101605  120.867957"
      ]
     },
     "execution_count": 5,
     "metadata": {},
     "output_type": "execute_result"
    }
   ],
   "source": [
    "df_metrics = pd.read_csv(\"metrics_autocorr_red.csv\", index_col=0)\n",
    "df_metrics"
   ]
  },
  {
   "cell_type": "code",
   "execution_count": 6,
   "metadata": {},
   "outputs": [
    {
     "name": "stdout",
     "output_type": "stream",
     "text": [
      "\\begin{table}\n",
      "\\caption{Performance Metrics for the different Models}\n",
      "\\label{table:models_metrics}\n",
      "\\begin{tabular}{lcccccc}\n",
      "\\toprule\n",
      "Model & R^2 & AIC & Adj R^2 & RMSE & EVs \\\\\n",
      "\\midrule\n",
      " & MSE & RMSE & R^2 & Adj R^2 & EVs & AIC \\\\\n",
      "\\midrule\n",
      "\\textbf{Linear Regression} & 119.908203 & 10.950260 & 0.818644 & 0.803146 & 0.818644 & 5280.223871 \\\\\n",
      "\\textbf{GWR} \\boldmath & 128.109551 & 11.318549 & 0.806239 & 0.789682 & 0.808532 & 1529.338979 \\\\\n",
      "\\textbf{MESF-Queen} & 115.646884 & 10.753924 & 0.825089 & 0.808191 & 0.825089 & 5261.578263 \\\\\n",
      "\\textbf{MESF-KNN} & 192.405777 & 13.871041 & 0.708994 & 0.680880 & 0.708994 & 5805.259810 \\\\\n",
      "\\textbf{MESF-Gabriel} & 190.397608 & 13.798464 & 0.712031 & 0.684211 & 0.712031 & 5794.054352 \\\\\n",
      "\\bottomrule\n",
      "\\end{tabular}\n",
      "\\end{table}\n",
      "\n"
     ]
    }
   ],
   "source": [
    "latex_table = df_metrics.to_latex(\n",
    "    column_format=\"lcccccc\",  # Adjust the column alignment\n",
    "    caption=\"Performance Metrics for the different Models\",\n",
    "    label=\"table:models_metrics\",\n",
    "    index_names=True,  # Ensure the index name (Model) is included\n",
    "    bold_rows=True  # Bold the index (model names)\n",
    ")\n",
    "\n",
    "# Adding some manual tweaks to highlight rows, etc.\n",
    "# Example: manually adding a LaTeX command to bold specific cells\n",
    "latex_table = latex_table.replace(\"\\\\textbf{GWR}\", \"\\\\textbf{GWR} \\\\boldmath\")\n",
    "latex_table = latex_table.replace(\"\\\\toprule\", \"\\\\toprule\\nModel & R^2 & AIC & Adj R^2 & RMSE & EVs \\\\\\\\\\n\\\\midrule\")\n",
    "\n",
    "print(latex_table)"
   ]
  },
  {
   "cell_type": "code",
   "execution_count": 7,
   "metadata": {},
   "outputs": [
    {
     "name": "stdout",
     "output_type": "stream",
     "text": [
      "\\begin{table}\n",
      "\\caption{Performance Metrics for the different Models}\n",
      "\\label{table:models_metrics}\n",
      "\\begin{tabular}{lrrrrrr}\n",
      "\\toprule\n",
      " & MSE & RMSE & R^2 & Adj R^2 & EVs & AIC \\\\\n",
      "\\midrule\n",
      "Linear Regression & 119.908203 & 10.950260 & 0.818644 & 0.803146 & 0.818644 & 5280.223871 \\\\\n",
      "GWR & 128.109551 & 11.318549 & 0.806239 & 0.789682 & 0.808532 & 1529.338979 \\\\\n",
      "MESF-Queen & 115.646884 & 10.753924 & 0.825089 & 0.808191 & 0.825089 & 5261.578263 \\\\\n",
      "MESF-KNN & 192.405777 & 13.871041 & 0.708994 & 0.680880 & 0.708994 & 5805.259810 \\\\\n",
      "MESF-Gabriel & 190.397608 & 13.798464 & 0.712031 & 0.684211 & 0.712031 & 5794.054352 \\\\\n",
      "\\bottomrule\n",
      "\\end{tabular}\n",
      "\\end{table}\n",
      "\n"
     ]
    }
   ],
   "source": [
    "# DataFrame to a LaTeX table\n",
    "latex_table = df_metrics.to_latex(\n",
    "    caption=\"Performance Metrics for the different Models\", label=\"table:models_metrics\"\n",
    ")\n",
    "print(latex_table)\n",
    "\n",
    "# with open(\"gwr_metrics_table.tex\", \"w\") as file:\n",
    "#     file.write(latex_table)"
   ]
  }
 ],
 "metadata": {
  "kernelspec": {
   "display_name": "urbana",
   "language": "python",
   "name": "python3"
  },
  "language_info": {
   "codemirror_mode": {
    "name": "ipython",
    "version": 3
   },
   "file_extension": ".py",
   "mimetype": "text/x-python",
   "name": "python",
   "nbconvert_exporter": "python",
   "pygments_lexer": "ipython3",
   "version": "3.12.1"
  }
 },
 "nbformat": 4,
 "nbformat_minor": 2
}
